{
  "nbformat": 4,
  "nbformat_minor": 0,
  "metadata": {
    "colab": {
      "provenance": [],
      "authorship_tag": "ABX9TyPNPIk3Fu1A6WgFlyylhxqw",
      "include_colab_link": true
    },
    "kernelspec": {
      "name": "python3",
      "display_name": "Python 3"
    },
    "language_info": {
      "name": "python"
    }
  },
  "cells": [
    {
      "cell_type": "markdown",
      "metadata": {
        "id": "view-in-github",
        "colab_type": "text"
      },
      "source": [
        "<a href=\"https://colab.research.google.com/github/NagatoARS/Works_numpy-pandas/blob/main/%D0%94%D0%B7_%D0%BF%D0%BE_%D0%BD%D0%B0%D0%BC%D0%BF%D0%B8_%D0%BF%D0%B0%D0%BD%D0%B4%D0%B0%D1%81_2.ipynb\" target=\"_parent\"><img src=\"https://colab.research.google.com/assets/colab-badge.svg\" alt=\"Open In Colab\"/></a>"
      ]
    },
    {
      "cell_type": "markdown",
      "source": [
        "Задание 1"
      ],
      "metadata": {
        "id": "NNMlos02bI7L"
      }
    },
    {
      "cell_type": "code",
      "execution_count": null,
      "metadata": {
        "id": "urkFVQ19pXYD"
      },
      "outputs": [],
      "source": [
        "import pandas as pd\n",
        "ds=pd.read_csv('ratings.csv', 'r', delimiter=',')\n",
        "ds[ds['rating']==5.0]['movieId'].value_counts().head(1)"
      ]
    },
    {
      "cell_type": "markdown",
      "source": [
        "Задание 2"
      ],
      "metadata": {
        "id": "c18GkM2_dNZP"
      }
    },
    {
      "cell_type": "code",
      "source": [
        "summ=0\n",
        "ds=pd.read_csv('power.csv', 'r', delimiter=',')\n",
        "ds2=ds[(ds['year']>=2005)&(ds['year']<=2010)&(ds['quantity']>0)]\n",
        "ds3=ds2[ds2.category.isin([4,12,21])]\n",
        "summ=ds3[ds3.country.str.contains('|'.join(['Lat','Lit','Est']))]['quantity'].sum()\n",
        "print('суммарное потребление: {}'.format(summ))"
      ],
      "metadata": {
        "id": "YFH9tHjfdO_b"
      },
      "execution_count": null,
      "outputs": []
    },
    {
      "cell_type": "markdown",
      "source": [
        "Задание 3"
      ],
      "metadata": {
        "id": "CSToqKkpd1J9"
      }
    },
    {
      "cell_type": "code",
      "source": [
        "import pandas as pd\n",
        "page_url='https://www.finanz.ru/valyuty/eur-rub'\n",
        "df=pd.read_html(page_url, attrs={'class':'news_table'}, encoding='utf-8')"
      ],
      "metadata": {
        "id": "ZPSX5b8zeI3t"
      },
      "execution_count": null,
      "outputs": []
    }
  ]
}