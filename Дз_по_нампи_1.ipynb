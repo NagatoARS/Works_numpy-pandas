{
  "nbformat": 4,
  "nbformat_minor": 0,
  "metadata": {
    "colab": {
      "provenance": [],
      "authorship_tag": "ABX9TyOk7Otbnwc/13eXFuoqXzTC",
      "include_colab_link": true
    },
    "kernelspec": {
      "name": "python3",
      "display_name": "Python 3"
    },
    "language_info": {
      "name": "python"
    }
  },
  "cells": [
    {
      "cell_type": "markdown",
      "metadata": {
        "id": "view-in-github",
        "colab_type": "text"
      },
      "source": [
        "<a href=\"https://colab.research.google.com/github/NagatoARS/Works_numpy-pandas/blob/main/%D0%94%D0%B7_%D0%BF%D0%BE_%D0%BD%D0%B0%D0%BC%D0%BF%D0%B8_1.ipynb\" target=\"_parent\"><img src=\"https://colab.research.google.com/assets/colab-badge.svg\" alt=\"Open In Colab\"/></a>"
      ]
    },
    {
      "cell_type": "markdown",
      "source": [
        "Задание 1"
      ],
      "metadata": {
        "id": "QaUs4bGYj44K"
      }
    },
    {
      "cell_type": "code",
      "execution_count": null,
      "metadata": {
        "colab": {
          "base_uri": "https://localhost:8080/"
        },
        "id": "oKe4wtstjnb6",
        "outputId": "96dc3a37-998d-4cf2-82c2-b9d445478010"
      },
      "outputs": [
        {
          "output_type": "execute_result",
          "data": {
            "text/plain": [
              "array([0, 1, 2, 3, 4, 5, 6, 7, 8, 9])"
            ]
          },
          "metadata": {},
          "execution_count": 12
        }
      ],
      "source": [
        "import numpy as np\n",
        "a=np.arange(10)\n",
        "a"
      ]
    },
    {
      "cell_type": "code",
      "source": [
        "import numpy as np\n",
        "f'Введите число'\n",
        "N=int(input())\n",
        "print('Итог: {}'. format(np.arange(N-1, -1, -1)))"
      ],
      "metadata": {
        "colab": {
          "base_uri": "https://localhost:8080/"
        },
        "id": "egf3CY1tlKQd",
        "outputId": "f25836b9-7d15-4d1f-efda-e2546873b7b1"
      },
      "execution_count": null,
      "outputs": [
        {
          "output_type": "stream",
          "name": "stdout",
          "text": [
            "10\n",
            "Итог: [9 8 7 6 5 4 3 2 1 0]\n"
          ]
        }
      ]
    },
    {
      "cell_type": "markdown",
      "source": [
        "Задание 2"
      ],
      "metadata": {
        "id": "uh1tgUomlxMH"
      }
    },
    {
      "cell_type": "code",
      "source": [
        "import numpy as np\n",
        "f'Введите число'\n",
        "N=int(input())\n",
        "matrix=np.diag(np.arange(N,0,-1))\n",
        "sum=0\n",
        "for line in matrix:\n",
        "  for j in line:\n",
        "    sum+=j\n",
        "print('Сумма: {}'. format(sum))"
      ],
      "metadata": {
        "colab": {
          "base_uri": "https://localhost:8080/"
        },
        "id": "PHgPe3-PlyO0",
        "outputId": "ac5a25ec-26e3-47e4-ab19-26468072adcb"
      },
      "execution_count": null,
      "outputs": [
        {
          "output_type": "stream",
          "name": "stdout",
          "text": [
            "10\n",
            "Сумма: 55\n"
          ]
        }
      ]
    },
    {
      "cell_type": "markdown",
      "source": [
        "Задание 3"
      ],
      "metadata": {
        "id": "OdyyHL6ImqJl"
      }
    },
    {
      "cell_type": "code",
      "source": [
        "a=np.array([[4,2,1],[1,3,0],[0,5,4]])\n",
        "b=np.array([4,12,-3])\n",
        "from numpy import linalg\n",
        "linalg.solve(a,b)"
      ],
      "metadata": {
        "colab": {
          "base_uri": "https://localhost:8080/"
        },
        "id": "6MVHDsjBmq_C",
        "outputId": "599f2694-749c-44ad-b87d-13a679978458"
      },
      "execution_count": null,
      "outputs": [
        {
          "output_type": "execute_result",
          "data": {
            "text/plain": [
              "array([ 0.46666667,  3.84444444, -5.55555556])"
            ]
          },
          "metadata": {},
          "execution_count": 25
        }
      ]
    },
    {
      "cell_type": "markdown",
      "source": [
        "Задание 4"
      ],
      "metadata": {
        "id": "l7vZFgT8ns9O"
      }
    },
    {
      "cell_type": "code",
      "source": [
        "import numpy as np\n",
        " \n",
        "users_stats = np.array(\n",
        "[\n",
        "[2, 1, 0, 0, 0, 0],\n",
        "[1, 1, 2, 1, 0, 0],\n",
        "[2, 0, 1, 0, 0, 0],\n",
        "[1, 1, 2, 1, 0, 1],\n",
        "[0, 0, 1, 2, 0, 0],\n",
        "[0, 0, 0, 0, 0, 5],\n",
        "[1, 0, 0, 0, 0, 0],\n",
        "[0, 1, 1, 0, 0, 0],\n",
        "[0, 0, 0, 1, 1, 3],\n",
        "[1, 0, 0, 2, 1, 4]\n",
        "],\n",
        "np.int32\n",
        ")\n",
        " \n",
        "next_user_stats = np.array([0, 1, 2, 0, 0, 0])\n",
        " \n",
        "cosine=np.dot(users_stats, next_user_stats)/(np.linalg.norm(users_stats, axis=1))/np.linalg.norm(next_user_stats)\n",
        "idx=np.argmax(cosine)\n",
        "print(users_stats[idx, :])"
      ],
      "metadata": {
        "colab": {
          "base_uri": "https://localhost:8080/"
        },
        "id": "0U21q4OGnuGb",
        "outputId": "0662524d-7ff3-4e2f-a707-80cc21a5863e"
      },
      "execution_count": null,
      "outputs": [
        {
          "output_type": "stream",
          "name": "stdout",
          "text": [
            "[0 1 1 0 0 0]\n"
          ]
        }
      ]
    }
  ]
}