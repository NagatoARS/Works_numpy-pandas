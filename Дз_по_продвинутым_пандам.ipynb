{
  "nbformat": 4,
  "nbformat_minor": 0,
  "metadata": {
    "colab": {
      "provenance": [],
      "authorship_tag": "ABX9TyP47qH6lH2xp4qYwRy3nzqG",
      "include_colab_link": true
    },
    "kernelspec": {
      "name": "python3",
      "display_name": "Python 3"
    },
    "language_info": {
      "name": "python"
    }
  },
  "cells": [
    {
      "cell_type": "markdown",
      "metadata": {
        "id": "view-in-github",
        "colab_type": "text"
      },
      "source": [
        "<a href=\"https://colab.research.google.com/github/NagatoARS/Works_numpy-pandas/blob/main/%D0%94%D0%B7_%D0%BF%D0%BE_%D0%BF%D1%80%D0%BE%D0%B4%D0%B2%D0%B8%D0%BD%D1%83%D1%82%D1%8B%D0%BC_%D0%BF%D0%B0%D0%BD%D0%B4%D0%B0%D0%BC.ipynb\" target=\"_parent\"><img src=\"https://colab.research.google.com/assets/colab-badge.svg\" alt=\"Open In Colab\"/></a>"
      ]
    },
    {
      "cell_type": "markdown",
      "source": [
        "Задание 1"
      ],
      "metadata": {
        "id": "I5_TfEqfh018"
      }
    },
    {
      "cell_type": "code",
      "execution_count": null,
      "metadata": {
        "id": "P342aHzUhxNd"
      },
      "outputs": [],
      "source": [
        "visit_log = pd.read_csv('visit_log.csv', sep = ';')\n",
        "visit_log[visit_log['traffic_source'] == 'email']"
      ]
    },
    {
      "cell_type": "code",
      "source": [
        "def rules(row):\n",
        "  traffic_source = row['traffic_source']\n",
        "  region = row['region']\n",
        "\n",
        "  if (traffic_source == 'yandex' or traffic_source == 'google'):\n",
        "    return 'organic'\n",
        "\n",
        "  elif (traffic_source == 'paid' or traffic_source == 'email') and region == 'Russia':\n",
        "    return 'ad'\n",
        "\n",
        "  elif (traffic_source == 'paid' or traffic_source == 'email') and region != 'Russia': \n",
        "    return 'other'\n",
        "\n",
        "  else:\n",
        "    return traffic_source"
      ],
      "metadata": {
        "id": "OsxdocERiCcU"
      },
      "execution_count": null,
      "outputs": []
    },
    {
      "cell_type": "code",
      "source": [
        "visit_log['source_type'] = visit_log.apply(rules, axis = 1)"
      ],
      "metadata": {
        "id": "1pLhVW_3iGB2"
      },
      "execution_count": null,
      "outputs": []
    },
    {
      "cell_type": "markdown",
      "source": [
        "Задание 2"
      ],
      "metadata": {
        "id": "FcCdkVDKiJwt"
      }
    },
    {
      "cell_type": "code",
      "source": [
        "url = pd.read_table('URLs.txt',sep='\\s+', engine='python')\n",
        "url[url.url.str.contains('\\d{8}-')].head(10)"
      ],
      "metadata": {
        "id": "m-ruFTN2iKtJ"
      },
      "execution_count": null,
      "outputs": []
    },
    {
      "cell_type": "markdown",
      "source": [
        "Задание 3"
      ],
      "metadata": {
        "id": "o-61oVUoiNWg"
      }
    },
    {
      "cell_type": "code",
      "source": [
        "import numpy as np\n",
        "import pandas as pd\n",
        "from datetime import datetime, timedelta\n",
        "ratings = pd.read_csv('ratings.csv')\n",
        "\n",
        "ratings = ratings.groupby(['userId']).agg({'rating': 'count',\n",
        "                                            'timestamp': lambda x: x.max() - x.min()})\n",
        "ratings[ratings.rating > 100]['timestamp'].astype('timedelta64[s]').mean()\n",
        "def classify(row):\n",
        "    return row['timestamp']['max'] - row['timestamp']['min']   \n",
        "ratings['lifetime'] = ratings.apply(classify, axis = 1)\n",
        "ratings[ratings['rating']['count'] > 100]['lifetime'].astype('timedelta64[s]').mean()"
      ],
      "metadata": {
        "id": "zV3CY7_EiOLo"
      },
      "execution_count": null,
      "outputs": []
    },
    {
      "cell_type": "markdown",
      "source": [
        "Задание 4"
      ],
      "metadata": {
        "id": "oQmj4fYXiYl4"
      }
    },
    {
      "cell_type": "code",
      "source": [
        "rzd = pd.DataFrame(\n",
        "    {\n",
        "        'client_id': [111, 112, 113, 114, 115],\n",
        "        'rzd_revenue': [1093, 2810, 10283, 5774, 981]\n",
        "    }\n",
        ")\n",
        "auto = pd.DataFrame(\n",
        "    {\n",
        "        'client_id': [113, 114, 115, 116, 117],\n",
        "        'auto_revenue': [57483, 83, 912, 4834, 98]\n",
        "    }\n",
        ")\n",
        "air = pd.DataFrame(\n",
        "    {\n",
        "        'client_id': [115, 116, 117, 118],\n",
        "        'air_revenue': [81, 4, 13, 173]\n",
        "    }\n",
        ")\n",
        "client_base = pd.DataFrame(\n",
        "    {\n",
        "        'client_id': [111, 112, 113, 114, 115, 116, 117, 118],\n",
        "        'address': ['Комсомольская 4', 'Энтузиастов 8а', 'Левобережная 1а', 'Мира 14', 'ЗЖБИиДК 1', \n",
        "                    'Строителей 18', 'Панфиловская 33', 'Мастеркова 4']\n",
        "    }\n",
        ")\n",
        "merged_data = client_base.merge(rzd, on = 'client_id', how = 'outer').merge(auto, on = 'client_id', how = 'outer').merge(air, on = 'client_id', how = 'outer').fillna(0)"
      ],
      "metadata": {
        "id": "9XXYXcm2icS2"
      },
      "execution_count": null,
      "outputs": []
    }
  ]
}